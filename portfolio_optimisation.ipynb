{
 "cells": [
  {
   "cell_type": "code",
   "execution_count": 17,
   "metadata": {},
   "outputs": [],
   "source": [
    "import pandas as pd\n",
    "import matplotlib.pyplot as plt\n",
    "from pywaffle import Waffle\n",
    "import circlify\n",
    "\n",
    "from pypfopt.expected_returns import mean_historical_return\n",
    "from pypfopt.risk_models import CovarianceShrinkage\n",
    "from pypfopt import HRPOpt"
   ]
  },
  {
   "cell_type": "code",
   "execution_count": 15,
   "metadata": {},
   "outputs": [
    {
     "name": "stderr",
     "output_type": "stream",
     "text": [
      "c:\\Users\\jyin1\\AppData\\Local\\Programs\\Python\\Python311\\Lib\\site-packages\\pypfopt\\hierarchical_portfolio.py:138: FutureWarning: Setting an item of incompatible dtype is deprecated and will raise in a future error of pandas. Value '[0.92269131 0.92269131 0.92269131 0.92269131 0.92269131 0.92269131\n",
      " 0.92269131]' has dtype incompatible with int64, please explicitly cast to a compatible dtype first.\n",
      "  w[first_cluster] *= alpha  # weight 1\n"
     ]
    },
    {
     "name": "stdout",
     "output_type": "stream",
     "text": [
      "Expected annual return: 18.8%\n",
      "Annual volatility: 10.9%\n",
      "Sharpe Ratio: 1.55\n",
      "{'10Y Bond': 0.005504292045187562, '2Y Bond': 0.003411491426056471, 'Copper': 0.01516607698076126, 'Crude Oil': 0.013112389881139159, 'EUR/USD': 0.4538083195572509, 'GHYG': 0.022113392520257843, 'Iron Ore': 0.07917856362544536, 'NLR': 0.008082273378763768, 'SOXX': 0.004904701934608346, 'Soybean': 0.05132612181814323, 'USD/JPY': 0.3163501358208483, 'VFH': 0.004794864939568839, 'VTV': 0.00891171652872957, 'VWO': 0.013335659543239354}\n"
     ]
    },
    {
     "data": {
      "image/png": "[encoded data removed]",
      "text/plain": [
       "<Waffle size 640x480 with 1 Axes>"
      ]
     },
     "metadata": {},
     "output_type": "display_data"
    }
   ],
   "source": [
    "\n",
    "portfolio = pd.read_excel('all_data.xlsx')\n",
    "\n",
    "# HRP Method\n",
    "returns = portfolio.pct_change().dropna()\n",
    "# mu = mean_historical_return(returns)\n",
    "# S = CovarianceShrinkage(returns).ledoit_wolf()\n",
    "hrp = HRPOpt(returns)\n",
    "hrp_weights = hrp.optimize()\n",
    "hrp.portfolio_performance(verbose=True)\n",
    "print(dict(hrp_weights))\n",
    "\n",
    "# Basic waffle\n",
    "plt.figure(\n",
    "    FigureClass=Waffle,\n",
    "    rows=5,\n",
    "    columns=20,\n",
    "    values=hrp_weights,\n",
    "    legend={'loc': 'upper left', 'bbox_to_anchor': (1.05, 1)},\n",
    ")\n",
    "plt.show()"
   ]
  },
  {
   "cell_type": "code",
   "execution_count": 18,
   "metadata": {},
   "outputs": [],
   "source": [
    "weights = {'10Y Bond': 0.005504292045187562, \n",
    "            '2Y Bond': 0.003411491426056471, \n",
    "            'Copper': 0.01516607698076126, \n",
    "            'Crude Oil': 0.013112389881139159, \n",
    "            'EUR/USD': 0.4538083195572509, \n",
    "            'GHYG': 0.022113392520257843, \n",
    "            'Iron Ore': 0.07917856362544536, \n",
    "            'NLR': 0.008082273378763768, \n",
    "            'SOXX': 0.004904701934608346, \n",
    "            'Soybean': 0.05132612181814323, \n",
    "            'USD/JPY': 0.3163501358208483, \n",
    "            'VFH': 0.004794864939568839, \n",
    "            'VTV': 0.00891171652872957, \n",
    "            'VWO': 0.013335659543239354\n",
    "}\n",
    "\n",
    "tiered_weights = [{'id': 'Fixed Income', 'datum': 0.03102917599, \n",
    "                    'children' : [{\n",
    "                                    'id':'10Y Bond', 'datum': 0.005504292045187562, \n",
    "                                    'id': '2Y Bond', 'datum': 0.003411491426056471, \n",
    "                                    'id': 'GHYG', 'datum': 0.022113392520257843\n",
    "                                }],\n",
    "                    'id': 'Commodities', 'datum': 0.1587831523, \n",
    "                    'children' : [{\n",
    "                                    'id': 'Copper', 'datum': 0.01516607698076126, \n",
    "                                    'id': 'Crude Oil', 'datum': 0.013112389881139159, \n",
    "                                    'id': 'Iron Ore', 'datum': 0.07917856362544536, \n",
    "                                    'id': 'Soybeans', 'datum': 0.05132612181814323\n",
    "                                }],\n",
    "                    'id': 'Foreign Exchange', 'datum': 0.7701584554, \n",
    "                    'children' : [{\n",
    "                                    'id': 'EUR/USD', 'datum': 0.4538083195572509, \n",
    "                                    'id': 'USD/JPY', 'datum': 0.3163501358208483\n",
    "                                }],\n",
    "                    'id': 'Equities', 'datum': 0.04002921632, \n",
    "                    'children' : [{\n",
    "                                    'id': 'NLR', 'datum': 0.008082273378763768, \n",
    "                                    'id': 'SOXX', 'datum': 0.004904701934608346, \n",
    "                                    'id': 'VFH', 'datum': 0.004794864939568839, \n",
    "                                    'id': 'VTV', 'datum': 0.00891171652872957, \n",
    "                                    'id': 'VWO', 'datum': 0.013335659543239354\n",
    "                                }]\n",
    "}]"
   ]
  },
  {
   "cell_type": "code",
   "execution_count": 19,
   "metadata": {},
   "outputs": [
    {
     "ename": "KeyError",
     "evalue": "'datum'",
     "output_type": "error",
     "traceback": [
      "\u001b[1;31m---------------------------------------------------------------------------\u001b[0m",
      "\u001b[1;31mKeyError\u001b[0m                                  Traceback (most recent call last)",
      "Cell \u001b[1;32mIn[19], line 3\u001b[0m\n\u001b[0;32m      1\u001b[0m \u001b[38;5;66;03m# create circle plot\u001b[39;00m\n\u001b[1;32m----> 3\u001b[0m circles \u001b[38;5;241m=\u001b[39m \u001b[43mcirclify\u001b[49m\u001b[38;5;241;43m.\u001b[39;49m\u001b[43mcirclify\u001b[49m\u001b[43m(\u001b[49m\n\u001b[0;32m      4\u001b[0m \u001b[43m    \u001b[49m\u001b[43mtiered_weights\u001b[49m\u001b[43m,\u001b[49m\n\u001b[0;32m      5\u001b[0m \u001b[43m    \u001b[49m\u001b[43mshow_enclosure\u001b[49m\u001b[38;5;241;43m=\u001b[39;49m\u001b[38;5;28;43;01mFalse\u001b[39;49;00m\u001b[43m,\u001b[49m\n\u001b[0;32m      6\u001b[0m \u001b[43m    \u001b[49m\u001b[43mtarget_enclosure\u001b[49m\u001b[38;5;241;43m=\u001b[39;49m\u001b[43mcirclify\u001b[49m\u001b[38;5;241;43m.\u001b[39;49m\u001b[43mCircle\u001b[49m\u001b[43m(\u001b[49m\u001b[43mx\u001b[49m\u001b[38;5;241;43m=\u001b[39;49m\u001b[38;5;241;43m0\u001b[39;49m\u001b[43m,\u001b[49m\u001b[43m \u001b[49m\u001b[43my\u001b[49m\u001b[38;5;241;43m=\u001b[39;49m\u001b[38;5;241;43m0\u001b[39;49m\u001b[43m,\u001b[49m\u001b[43m \u001b[49m\u001b[43mr\u001b[49m\u001b[38;5;241;43m=\u001b[39;49m\u001b[38;5;241;43m1\u001b[39;49m\u001b[43m)\u001b[49m\n\u001b[0;32m      7\u001b[0m \u001b[43m)\u001b[49m\n\u001b[0;32m      9\u001b[0m \u001b[38;5;66;03m# configure data plot\u001b[39;00m\n\u001b[0;32m     10\u001b[0m fig, ax \u001b[38;5;241m=\u001b[39m plt\u001b[38;5;241m.\u001b[39msubplots(figsize\u001b[38;5;241m=\u001b[39m(\u001b[38;5;241m14\u001b[39m, \u001b[38;5;241m14\u001b[39m))\n",
      "File \u001b[1;32mc:\\Users\\jyin1\\AppData\\Local\\Programs\\Python\\Python311\\Lib\\site-packages\\circlify.py:636\u001b[0m, in \u001b[0;36mcirclify\u001b[1;34m(data, target_enclosure, show_enclosure, datum_field, id_field, children_field)\u001b[0m\n\u001b[0;32m    634\u001b[0m \u001b[38;5;28;01mif\u001b[39;00m target_enclosure \u001b[38;5;129;01mis\u001b[39;00m \u001b[38;5;28;01mNone\u001b[39;00m:\n\u001b[0;32m    635\u001b[0m     target_enclosure \u001b[38;5;241m=\u001b[39m Circle(level\u001b[38;5;241m=\u001b[39m\u001b[38;5;241m0\u001b[39m, x\u001b[38;5;241m=\u001b[39m\u001b[38;5;241m0.0\u001b[39m, y\u001b[38;5;241m=\u001b[39m\u001b[38;5;241m0.0\u001b[39m, r\u001b[38;5;241m=\u001b[39m\u001b[38;5;241m1.0\u001b[39m)\n\u001b[1;32m--> 636\u001b[0m all_circles \u001b[38;5;241m=\u001b[39m \u001b[43m_circlify_level\u001b[49m\u001b[43m(\u001b[49m\u001b[43mdata\u001b[49m\u001b[43m,\u001b[49m\u001b[43m \u001b[49m\u001b[43mtarget_enclosure\u001b[49m\u001b[43m,\u001b[49m\u001b[43m \u001b[49m\u001b[43mfields\u001b[49m\u001b[43m)\u001b[49m\n\u001b[0;32m    637\u001b[0m \u001b[38;5;28;01mif\u001b[39;00m show_enclosure:\n\u001b[0;32m    638\u001b[0m     all_circles\u001b[38;5;241m.\u001b[39mappend(target_enclosure)\n",
      "File \u001b[1;32mc:\\Users\\jyin1\\AppData\\Local\\Programs\\Python\\Python311\\Lib\\site-packages\\circlify.py:576\u001b[0m, in \u001b[0;36m_circlify_level\u001b[1;34m(data, target_enclosure, fields, level)\u001b[0m\n\u001b[0;32m    574\u001b[0m \u001b[38;5;28;01mif\u001b[39;00m \u001b[38;5;129;01mnot\u001b[39;00m data:\n\u001b[0;32m    575\u001b[0m     \u001b[38;5;28;01mreturn\u001b[39;00m all_circles\n\u001b[1;32m--> 576\u001b[0m circles \u001b[38;5;241m=\u001b[39m \u001b[43m_handle\u001b[49m\u001b[43m(\u001b[49m\u001b[43mdata\u001b[49m\u001b[43m,\u001b[49m\u001b[43m \u001b[49m\u001b[38;5;241;43m1\u001b[39;49m\u001b[43m,\u001b[49m\u001b[43m \u001b[49m\u001b[43mfields\u001b[49m\u001b[43m)\u001b[49m\n\u001b[0;32m    577\u001b[0m packed \u001b[38;5;241m=\u001b[39m pack_A1_0([circle\u001b[38;5;241m.\u001b[39mr \u001b[38;5;28;01mfor\u001b[39;00m circle \u001b[38;5;129;01min\u001b[39;00m circles])\n\u001b[0;32m    578\u001b[0m enclosure \u001b[38;5;241m=\u001b[39m enclose(packed)\n",
      "File \u001b[1;32mc:\\Users\\jyin1\\AppData\\Local\\Programs\\Python\\Python311\\Lib\\site-packages\\circlify.py:540\u001b[0m, in \u001b[0;36m_handle\u001b[1;34m(data, level, fields)\u001b[0m\n\u001b[0;32m    538\u001b[0m \u001b[38;5;28;01mfor\u001b[39;00m datum \u001b[38;5;129;01min\u001b[39;00m data:\n\u001b[0;32m    539\u001b[0m     \u001b[38;5;28;01mif\u001b[39;00m \u001b[38;5;28misinstance\u001b[39m(datum, \u001b[38;5;28mdict\u001b[39m):\n\u001b[1;32m--> 540\u001b[0m         value \u001b[38;5;241m=\u001b[39m \u001b[43mdatum\u001b[49m\u001b[43m[\u001b[49m\u001b[43mdatum_field\u001b[49m\u001b[43m]\u001b[49m\n\u001b[0;32m    541\u001b[0m         elements\u001b[38;5;241m.\u001b[39mappend(Circle(r\u001b[38;5;241m=\u001b[39mvalue \u001b[38;5;241m+\u001b[39m \u001b[38;5;241m0\u001b[39m, level\u001b[38;5;241m=\u001b[39mlevel, ex\u001b[38;5;241m=\u001b[39mdatum))\n\u001b[0;32m    542\u001b[0m         \u001b[38;5;28;01mcontinue\u001b[39;00m\n",
      "\u001b[1;31mKeyError\u001b[0m: 'datum'"
     ]
    }
   ],
   "source": [
    "# create circle plot\n",
    "\n",
    "circles = circlify.circlify(\n",
    "    tiered_weights,\n",
    "    show_enclosure=False,\n",
    "    target_enclosure=circlify.Circle(x=0, y=0, r=1)\n",
    ")\n",
    "\n",
    "# configure data plot\n",
    "fig, ax = plt.subplots(figsize=(14, 14))\n",
    "ax.set_title('Portfolio Weightings')\n",
    "ax.axis('off')\n",
    "lim = max(\n",
    "    max(\n",
    "        abs(circle.x) + circle.r,\n",
    "        abs(circle.y) + circle.r,\n",
    "    )\n",
    "    for circle in circles\n",
    ")\n",
    "plt.xlim(-lim, lim)\n",
    "plt.ylim(-lim, lim)\n",
    "\n",
    "for circle in circles:\n",
    "    if circle.level != 2:\n",
    "        continue\n",
    "    x, y, r = circle\n",
    "    ax.add_patch(plt.Circle((x, y), r, alpha=0.5,\n",
    "                    linewidth=2, color=\"lightblue\"))\n",
    "\n",
    "# Print circle and labels for the highest level:\n",
    "for circle in circles:\n",
    "    if circle.level != 3:\n",
    "        continue\n",
    "    x, y, r = circle\n",
    "    label = circle.ex[\"id\"]\n",
    "    ax.add_patch(plt.Circle((x, y), r, alpha=0.5,\n",
    "                    linewidth=2, color=\"#69b3a2\"))\n",
    "    plt.annotate(label, (x, y), ha='center', color=\"white\")\n",
    "\n",
    "# Print labels for the continents\n",
    "for circle in circles:\n",
    "    if circle.level != 2:\n",
    "        continue\n",
    "    x, y, r = circle\n",
    "    label = circle.ex[\"id\"]\n",
    "    plt.annotate(label, (x, y), va='center', ha='center', bbox=dict(\n",
    "        facecolor='white', edgecolor='black', boxstyle='round', pad=.5))"
   ]
  }
 ],
 "metadata": {
  "kernelspec": {
   "display_name": "Python 3",
   "language": "python",
   "name": "python3"
  },
  "language_info": {
   "codemirror_mode": {
    "name": "ipython",
    "version": 3
   },
   "file_extension": ".py",
   "mimetype": "text/x-python",
   "name": "python",
   "nbconvert_exporter": "python",
   "pygments_lexer": "ipython3",
   "version": "3.11.4"
  }
 },
 "nbformat": 4,
 "nbformat_minor": 2
}
