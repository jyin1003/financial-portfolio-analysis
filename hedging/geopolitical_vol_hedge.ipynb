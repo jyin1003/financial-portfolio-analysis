{
 "cells": [
  {
   "cell_type": "code",
   "execution_count": 1,
   "metadata": {},
   "outputs": [],
   "source": [
    "import pandas as pd\n",
    "import numpy as np\n",
    "import yfinance as yf"
   ]
  },
  {
   "cell_type": "code",
   "execution_count": 2,
   "metadata": {},
   "outputs": [
    {
     "name": "stderr",
     "output_type": "stream",
     "text": [
      "[*********************100%%**********************]  1 of 1 completed\n",
      "[*********************100%%**********************]  1 of 1 completed\n",
      "[*********************100%%**********************]  1 of 1 completed\n",
      "\n",
      "1 Failed download:\n",
      "['^VSTN']: Exception(\"%ticker%: Period 'max' is invalid, must be one of ['1d', '5d']\")\n",
      "[*********************100%%**********************]  1 of 1 completed\n",
      "\n",
      "1 Failed download:\n",
      "['^OVX)']: Exception('%ticker%: No timezone found, symbol may be delisted')\n"
     ]
    },
    {
     "name": "stdout",
     "output_type": "stream",
     "text": [
      "            Crude_Oil        VIX  VSTN        OVX\n",
      "Date                                             \n",
      "2019-05-01  72.790001  14.800000   NaN  72.790001\n",
      "2019-05-02  70.750000  14.420000   NaN  70.750000\n",
      "2019-05-03  70.849998  12.870000   NaN  70.849998\n",
      "2019-05-06  71.239998  15.440000   NaN  71.239998\n",
      "2019-05-07  69.879997  19.320000   NaN  69.879997\n",
      "...               ...        ...   ...        ...\n",
      "2024-04-08  90.379997  15.190000   NaN  90.379997\n",
      "2024-04-09  89.419998  14.980000   NaN  89.419998\n",
      "2020-09-01        NaN  26.120001   NaN        NaN\n",
      "2020-12-31        NaN  22.750000   NaN        NaN\n",
      "2021-05-04        NaN  19.480000   NaN        NaN\n",
      "\n",
      "[1245 rows x 4 columns]\n"
     ]
    }
   ],
   "source": [
    "# Download data\n",
    "crude_oil_df = yf.download('BZ=F', '2019-05-01', '2024-04-10') # crude oil\n",
    "crude_oil_df = crude_oil_df[['Close']]\n",
    "\n",
    "VIX_df = yf.download('^VIX', '2019-05-01', '2024-04-10') # CBOE Volatility Index\n",
    "VIX_df = VIX_df[['Close']]\n",
    "\n",
    "VSTN_df = yf.download('^VSTN', '2019-05-01', '2024-04-10') # SPX Near Term VXST Index\n",
    "VSTN_df = VSTN_df[['Close']]\n",
    "\n",
    "OVX_df = yf.download('^OVX)', '2019-05-01', '2024-04-10') # CBOE Crude Oil Volatility Index\n",
    "OVX_df = crude_oil_df[['Close']]\n",
    "\n",
    "# Rename columns to avoid confusion when concatenating\n",
    "crude_oil_df.columns = ['Crude_Oil']\n",
    "VIX_df.columns = ['VIX']\n",
    "VSTN_df.columns = ['VSTN']\n",
    "OVX_df.columns = ['OVX']\n",
    "\n",
    "# Concatenate into one dataframe\n",
    "combined_df = pd.concat([crude_oil_df, VIX_df, VSTN_df, OVX_df], axis=1)\n",
    "\n",
    "print(combined_df)"
   ]
  }
 ],
 "metadata": {
  "kernelspec": {
   "display_name": "Python 3",
   "language": "python",
   "name": "python3"
  },
  "language_info": {
   "codemirror_mode": {
    "name": "ipython",
    "version": 3
   },
   "file_extension": ".py",
   "mimetype": "text/x-python",
   "name": "python",
   "nbconvert_exporter": "python",
   "pygments_lexer": "ipython3",
   "version": "3.11.4"
  }
 },
 "nbformat": 4,
 "nbformat_minor": 2
}
