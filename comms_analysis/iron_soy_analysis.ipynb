{
 "cells": [
  {
   "cell_type": "code",
   "execution_count": 1,
   "metadata": {},
   "outputs": [],
   "source": [
    "import pandas as pd\n",
    "import matplotlib.pyplot as plt\n",
    "from datetime import datetime, timedelta\n",
    "\n",
    "from sklearn.linear_model import LinearRegression"
   ]
  },
  {
   "cell_type": "code",
   "execution_count": 8,
   "metadata": {},
   "outputs": [
    {
     "name": "stdout",
     "output_type": "stream",
     "text": [
      "       Date   Close\n",
      "0    Apr-14  105.40\n",
      "1    May-14   91.80\n",
      "2    Jun-14   93.80\n",
      "3    Jul-14   95.60\n",
      "4    Aug-14   87.90\n",
      "..      ...     ...\n",
      "110  Jun-23  112.57\n",
      "111  Jul-23  112.46\n",
      "112  Aug-23  109.40\n",
      "113  Sep-23  120.79\n",
      "114  Oct-23  118.91\n",
      "\n",
      "[115 rows x 2 columns]\n",
      "             Close\n",
      "Date              \n",
      "2014-04-01  105.40\n",
      "2014-05-01   91.80\n",
      "2014-06-01   93.80\n",
      "2014-07-01   95.60\n",
      "2014-08-01   87.90\n",
      "...            ...\n",
      "2023-06-01  112.57\n",
      "2023-07-01  112.46\n",
      "2023-08-01  109.40\n",
      "2023-09-01  120.79\n",
      "2023-10-01  118.91\n",
      "\n",
      "[115 rows x 1 columns]\n",
      "             Date   Close\n",
      "0      1968-12-05  2.4375\n",
      "1      1968-12-06  2.4475\n",
      "2      1968-12-09  2.4363\n",
      "3      1968-12-10  2.4375\n",
      "4      1968-12-11  2.4463\n",
      "...           ...     ...\n",
      "13974  2024-04-29     NaN\n",
      "13975  2024-04-30     NaN\n",
      "13976  2024-05-01     NaN\n",
      "13977  2024-05-02     NaN\n",
      "13978  2024-05-03     NaN\n",
      "\n",
      "[13979 rows x 2 columns]\n",
      "             Close\n",
      "Date              \n",
      "2014-04-01  14.840\n",
      "2014-04-02  14.625\n",
      "2014-04-03  14.755\n",
      "2014-04-04  14.735\n",
      "2014-04-07  14.645\n",
      "...            ...\n",
      "2024-04-29     NaN\n",
      "2024-04-30     NaN\n",
      "2024-05-01     NaN\n",
      "2024-05-02     NaN\n",
      "2024-05-03     NaN\n",
      "\n",
      "[2569 rows x 1 columns]\n"
     ]
    }
   ],
   "source": [
    "path = 'data/'\n",
    "products = ['iron_ore', 'soybean']\n",
    "\n",
    "for product in products:\n",
    "    file_path = path + product + '_data' + '.csv'\n",
    "    df = pd.read_csv(file_path)\n",
    "    print(df)\n",
    "    if product == 'iron_ore':\n",
    "        df['Date'] = pd.to_datetime(df['Date'], format='%b-%y')\n",
    "    else:\n",
    "        df['Date'] = pd.to_datetime(df['Date'], format='%Y-%m-%d')\n",
    "    df.set_index('Date', inplace=True) # set date as index\n",
    "    df = df[df.index >= '2014-04-01']\n",
    "    print(df)\n",
    "\n",
    "    \n",
    "# df  = pd.read_csv('2Y_Bond.csv')\n",
    "# df = df[['Date', 'Price']] # only date and price data\n",
    "# df = df.iloc[::-1] # reverse for chronological order\n",
    "# df.set_index('Date', inplace=True) # set date as index\n",
    "# df.rename(columns={'Price': 'Close'}, inplace=True) # rename to Close for analysis\n",
    "\n",
    "# df = df.dropna()\n",
    "# df.Close.plot(figsize=(10, 7),color='r')\n",
    "# plt.ylabel(\"2Y Bond Prices\")\n",
    "# plt.title(\"2Y Bond Price Series\")\n",
    "# plt.show()"
   ]
  }
 ],
 "metadata": {
  "kernelspec": {
   "display_name": "Python 3",
   "language": "python",
   "name": "python3"
  },
  "language_info": {
   "codemirror_mode": {
    "name": "ipython",
    "version": 3
   },
   "file_extension": ".py",
   "mimetype": "text/x-python",
   "name": "python",
   "nbconvert_exporter": "python",
   "pygments_lexer": "ipython3",
   "version": "3.11.4"
  }
 },
 "nbformat": 4,
 "nbformat_minor": 2
}
