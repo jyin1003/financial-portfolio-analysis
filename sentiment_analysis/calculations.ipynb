{
 "cells": [
  {
   "cell_type": "code",
   "execution_count": 1,
   "metadata": {},
   "outputs": [
    {
     "name": "stdout",
     "output_type": "stream",
     "text": [
      "{'war': 1.0, 'military': 0.40842311459353575, 'invasion': 0.2654260528893242, 'biden': 0.11067580803134182, 'sanctions': 0.10675808031341821, 'aid': 0.06464250734573947, 'missile': 0.047992164544564155, 'humanitarian': 0.04407443682664055, 'oil': 0.03330068560235064, 'ammunition': 0.029382957884427033, 'negotiate': 0.029382957884427033, 'sovereignty': 0.02840352595494613, 'resources': 0.023506366307541625, 'imperialism': 0.023506366307541625, 'ceasefire': 0.021547502448579822, 'propaganda': 0.02056807051909892, 'production': 0.02056807051909892, 'shells': 0.0, 'counteroffensive': 0.0, 'presidential election': 0.0, 'frozen assets': 0.0, 'trump': 0.0, 'bombs': 0.0}\n"
     ]
    }
   ],
   "source": [
    "peak_words = {\n",
    "    'war': 1021,\n",
    "    'military': 417,\n",
    "    'invasion': 271,\n",
    "    'biden': 113,\n",
    "    'sanctions': 109,\n",
    "    'aid': 66,\n",
    "    'missile': 49,\n",
    "    'humanitarian': 45,\n",
    "    'oil': 34,\n",
    "    'ammunition': 30,\n",
    "    'negotiate': 30,\n",
    "    'sovereignty': 29,\n",
    "    'resources': 24,\n",
    "    'imperialism': 24,\n",
    "    'ceasefire': 22,\n",
    "    'propaganda': 21,\n",
    "    'production': 21,\n",
    "    'shells': 0,\n",
    "    'counteroffensive': 0,\n",
    "    'presidential election': 0,\n",
    "    'frozen assets': 0,\n",
    "    'trump': 0,\n",
    "    'bombs': 0\n",
    "}\n",
    "\n",
    "for word in peak_words:\n",
    "    peak_words[word] = peak_words[word] / 1021\n",
    "\n",
    "peak_percentages = {\n",
    "    'war': 1.0,\n",
    "    'military': 0.40842311459353575,\n",
    "    'invasion': 0.2654260528893242,\n",
    "    'biden': 0.11067580803134182,\n",
    "    'sanctions': 0.10675808031341821,\n",
    "    'aid': 0.06464250734573947,\n",
    "    'missile': 0.047992164544564155,\n",
    "    'humanitarian': 0.04407443682664055,\n",
    "    'oil': 0.03330068560235064,\n",
    "    'ammunition': 0.029382957884427033,\n",
    "    'negotiate': 0.029382957884427033,\n",
    "    'sovereignty': 0.02840352595494613,\n",
    "    'resources': 0.023506366307541625,\n",
    "    'imperialism': 0.023506366307541625,\n",
    "    'ceasefire': 0.021547502448579822,\n",
    "    'propaganda': 0.02056807051909892,\n",
    "    'production': 0.02056807051909892,\n",
    "    'shells': 0.0,\n",
    "    'counteroffensive': 0.0,\n",
    "    'presidential election': 0.0,\n",
    "    'frozen assets': 0.0,\n",
    "    'trump': 0.0,\n",
    "    'bombs': 0.0\n",
    "}"
   ]
  },
  {
   "cell_type": "code",
   "execution_count": 5,
   "metadata": {},
   "outputs": [
    {
     "name": "stdout",
     "output_type": "stream",
     "text": [
      "{'war': 1.0, 'military': 0.38766006984866125, 'invasion': 0.25145518044237486, 'aid': 0.11175785797438882, 'sanctions': 0.10128055878928988, 'humanitarian': 0.047729918509895226, 'counteroffensive': 0.04423748544819558, 'biden': 0.04190919674039581, 'oil': 0.037252619324796274, 'missile': 0.03608847497089639, 'resources': 0.03143189755529686, 'ammunition': 0.02677532013969732, 'production': 0.025611175785797437, 'presidential election': 0.017462165308498253, 'sovereignty': 0.01629802095459837, 'propaganda': 0.015133876600698487, 'ceasefire': 0.015133876600698487, 'frozen assets': 0.009313154831199068, 'imperialism': 0.008149010477299184, 'shells': 0.005820721769499418, 'negotiate': 0.012805587892898719, 'trump': 0.012805587892898719, 'bombs': 0.0034924330616996507}\n"
     ]
    }
   ],
   "source": [
    "middle_freq = {\n",
    "    'war': 859,\n",
    "    'military': 333,\n",
    "    'invasion': 216,\n",
    "    'aid': 96,\n",
    "    'sanctions': 87,\n",
    "    'humanitarian': 41,\n",
    "    'counteroffensive': 38,\n",
    "    'biden': 36,\n",
    "    'oil': 32,\n",
    "    'missile': 31,\n",
    "    'resources': 27,\n",
    "    'ammunition': 23,\n",
    "    'production': 22,\n",
    "    'presidential election': 15,\n",
    "    'sovereignty': 14,\n",
    "    'propaganda': 13,\n",
    "    'ceasefire': 13,\n",
    "    'frozen assets': 8,\n",
    "    'imperialism': 7,\n",
    "    'shells': 5,\n",
    "    'negotiate': 11,\n",
    "    'trump': 11,\n",
    "    'bombs': 3\n",
    "}\n",
    "\n",
    "for word in middle_freq:\n",
    "    middle_freq[word] = middle_freq[word] / 859\n",
    "    \n",
    "print(middle_freq)\n",
    "middle_percentage = {\n",
    "    'war': 1.0,\n",
    "    'military': 0.38766006984866125,\n",
    "    'invasion': 0.25145518044237486,\n",
    "    'aid': 0.11175785797438882,\n",
    "    'sanctions': 0.10128055878928988,\n",
    "    'humanitarian': 0.047729918509895226,\n",
    "    'counteroffensive': 0.04423748544819558,\n",
    "    'biden': 0.04190919674039581,\n",
    "    'oil': 0.037252619324796274,\n",
    "    'missile': 0.03608847497089639,\n",
    "    'resources': 0.03143189755529686,\n",
    "    'ammunition': 0.02677532013969732,\n",
    "    'production': 0.025611175785797437,\n",
    "    'presidential election': 0.017462165308498253,\n",
    "    'sovereignty': 0.01629802095459837,\n",
    "    'propaganda': 0.015133876600698487,\n",
    "    'ceasefire': 0.015133876600698487,\n",
    "    'frozen assets': 0.009313154831199068,\n",
    "    'imperialism': 0.008149010477299184,\n",
    "    'shells': 0.005820721769499418,\n",
    "    'negotiate': 0.012805587892898719,\n",
    "    'trump': 0.012805587892898719,\n",
    "    'bombs': 0.0034924330616996507\n",
    "}\n"
   ]
  },
  {
   "cell_type": "code",
   "execution_count": 2,
   "metadata": {},
   "outputs": [
    {
     "name": "stdout",
     "output_type": "stream",
     "text": [
      "{'war': 1.0, 'military': 0.375, 'invasion': 0.17954545454545454, 'aid': 0.16590909090909092, 'ammunition': 0.1318181818181818, 'counteroffensive': 0.09090909090909091, 'production': 0.08181818181818182, 'sanctions': 0.05909090909090909, 'presidential election': 0.056818181818181816, 'frozen assets': 0.05454545454545454, 'shells': 0.05454545454545454, 'biden': 0.05, 'oil': 0.045454545454545456, 'missile': 0.04318181818181818, 'resources': 0.04090909090909091, 'propaganda': 0.029545454545454545, 'trump': 0.029545454545454545, 'bombs': 0.02727272727272727, 'humanitarian': 0.0, 'negotiate': 0.0, 'sovereignty': 0.0, 'imperialism': 0.0, 'ceasefire': 0.0}\n"
     ]
    }
   ],
   "source": [
    "now_words = {\n",
    "    'war': 440,\n",
    "    'military': 165,\n",
    "    'invasion': 79,\n",
    "    'aid': 73,\n",
    "    'ammunition': 58,\n",
    "    'counteroffensive': 40,\n",
    "    'production': 36,\n",
    "    'sanctions': 26,\n",
    "    'presidential election': 25,\n",
    "    'frozen assets': 24,\n",
    "    'shells': 24,\n",
    "    'biden': 22,\n",
    "    'oil': 20,\n",
    "    'missile': 19,\n",
    "    'resources': 18,\n",
    "    'propaganda': 13,\n",
    "    'trump': 13,\n",
    "    'bombs': 12,\n",
    "    'humanitarian': 0,\n",
    "    'negotiate': 0,\n",
    "    'sovereignty': 0,\n",
    "    'imperialism': 0,\n",
    "    'ceasefire': 0\n",
    "}\n",
    "\n",
    "for word in now_words:\n",
    "    now_words[word] = now_words[word] / 440\n",
    "print(now_words)\n",
    "\n",
    "now_percentages = {\n",
    "    'war': 1.0,\n",
    "    'military': 0.375,\n",
    "    'invasion': 0.17954545454545454,\n",
    "    'aid': 0.16590909090909092,\n",
    "    'ammunition': 0.1318181818181818,\n",
    "    'counteroffensive': 0.09090909090909091,\n",
    "    'production': 0.08181818181818182,\n",
    "    'sanctions': 0.05909090909090909,\n",
    "    'presidential election': 0.056818181818181816,\n",
    "    'frozen assets': 0.05454545454545454,\n",
    "    'shells': 0.05454545454545454,\n",
    "    'biden': 0.05,\n",
    "    'oil': 0.045454545454545456,\n",
    "    'missile': 0.04318181818181818,\n",
    "    'resources': 0.04090909090909091,\n",
    "    'propaganda': 0.029545454545454545,\n",
    "    'trump': 0.029545454545454545,\n",
    "    'bombs': 0.02727272727272727,\n",
    "    'humanitarian': 0.0,\n",
    "    'negotiate': 0.0,\n",
    "    'sovereignty': 0.0,\n",
    "    'imperialism': 0.0,\n",
    "    'ceasefire': 0.0\n",
    "}"
   ]
  },
  {
   "cell_type": "code",
   "execution_count": 1,
   "metadata": {},
   "outputs": [],
   "source": [
    "import pandas as pd\n",
    "\n",
    "# Read the CSV file into a pandas DataFrame\n",
    "df = pd.read_csv('Book1.csv')\n",
    "\n",
    "# Reverse the price column\n",
    "df['price'] = df['price'].iloc[::-1].reset_index(drop=True)\n",
    "\n",
    "# If you want to save the modified DataFrame back to a CSV file\n",
    "df.to_excel('reversed_prices.xlsx', index=False)"
   ]
  },
  {
   "cell_type": "code",
   "execution_count": 3,
   "metadata": {},
   "outputs": [
    {
     "name": "stderr",
     "output_type": "stream",
     "text": [
      "[*********************100%%**********************]  1 of 1 completed\n"
     ]
    }
   ],
   "source": [
    "import yfinance as yf\n",
    "\n",
    "df = yf.download('NLR', '2019-05-01', '2024-04-10')\n",
    "df = df[['Close']]\n",
    "df.to_excel('NLR_prices.xlsx', index=False)\n",
    "df = df.resample('W-FRI').last()\n",
    "# export to excel\n",
    "export_df = pd.DataFrame({\n",
    "    'Dates': df.index, \n",
    "    'Historical Price': df['Close']\n",
    "})\n",
    "export_df.to_excel('NLR_prices_weekly.xlsx', index=False)"
   ]
  }
 ],
 "metadata": {
  "kernelspec": {
   "display_name": "Python 3",
   "language": "python",
   "name": "python3"
  },
  "language_info": {
   "codemirror_mode": {
    "name": "ipython",
    "version": 3
   },
   "file_extension": ".py",
   "mimetype": "text/x-python",
   "name": "python",
   "nbconvert_exporter": "python",
   "pygments_lexer": "ipython3",
   "version": "3.11.4"
  }
 },
 "nbformat": 4,
 "nbformat_minor": 2
}
