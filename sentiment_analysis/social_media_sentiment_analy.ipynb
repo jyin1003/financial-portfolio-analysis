{
 "cells": [
  {
   "cell_type": "code",
   "execution_count": 3,
   "metadata": {},
   "outputs": [],
   "source": [
    "from selenium import webdriver\n",
    "from selenium.webdriver.chrome.options import Options\n",
    "from bs4 import BeautifulSoup\n",
    "import pandas as pd\n",
    "from facebook_scraper import get_posts"
   ]
  },
  {
   "cell_type": "code",
   "execution_count": 8,
   "metadata": {},
   "outputs": [],
   "source": [
    "url = \"https://www.facebook.com/search/top/?q=presidential%20election%20\"\n",
    "\n",
    "options = Options()\n",
    "options.add_argument('--headless')\n",
    "options.add_argument('--disable-gpu')\n",
    "options.add_argument('--no-sandbox')\n",
    "options.add_argument('--disable-dev-shm-usage')\n",
    "options.add_argument('--user-age=Mozilla/5.0 (Windows NT 10,0; Chrome/58.0.3029.110 Safari/537.36')\n",
    "\n",
    "driver = webdriver.Chrome(options=options)\n",
    "driver.get(url)\n",
    "\n",
    "html_content = driver.page_source\n",
    "soup = BeautifulSoup(driver.page_source, 'html.parser')\n",
    "posts = soup.find_all('div', class_='xdj266r.x11i5mm.xat24cr.x1mh8g0r.x1vvkbs.x126k92a')\n",
    "post_content = [post.text for post in posts]\n",
    "\n",
    "data = pd.DataFrame({'post_content': post_content})\n",
    "data.to_csv('posts.csv', index=False)\n",
    "driver.quit()"
   ]
  },
  {
   "cell_type": "code",
   "execution_count": 5,
   "metadata": {},
   "outputs": [
    {
     "name": "stderr",
     "output_type": "stream",
     "text": [
      "c:\\Users\\jyin1\\AppData\\Local\\Programs\\Python\\Python311\\Lib\\site-packages\\facebook_scraper\\facebook_scraper.py:912: UserWarning: Facebook says 'Unsupported Browser'\n",
      "  warnings.warn(f\"Facebook says 'Unsupported Browser'\")\n"
     ]
    }
   ],
   "source": [
    "# for post in get_posts('nintendo', pages=1):\n",
    "#     print(post['text'][:50])"
   ]
  }
 ],
 "metadata": {
  "kernelspec": {
   "display_name": "Python 3",
   "language": "python",
   "name": "python3"
  },
  "language_info": {
   "codemirror_mode": {
    "name": "ipython",
    "version": 3
   },
   "file_extension": ".py",
   "mimetype": "text/x-python",
   "name": "python",
   "nbconvert_exporter": "python",
   "pygments_lexer": "ipython3",
   "version": "3.11.4"
  }
 },
 "nbformat": 4,
 "nbformat_minor": 2
}
